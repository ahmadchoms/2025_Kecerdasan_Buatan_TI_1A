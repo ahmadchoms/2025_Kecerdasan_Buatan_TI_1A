{
 "cells": [
  {
   "cell_type": "code",
   "execution_count": 1,
   "id": "cd929319",
   "metadata": {},
   "outputs": [
    {
     "name": "stdout",
     "output_type": "stream",
     "text": [
      "0    1\n",
      "1    7\n",
      "2    2\n",
      "dtype: int64\n"
     ]
    }
   ],
   "source": [
    "import pandas as pd\n",
    "\n",
    "# Membuat Series dari sebuah List Python\n",
    "li = [1, 7, 2]\n",
    "se = pd.Series(li)\n",
    "print(se)"
   ]
  },
  {
   "cell_type": "code",
   "execution_count": 3,
   "id": "d760dacf",
   "metadata": {},
   "outputs": [
    {
     "name": "stdout",
     "output_type": "stream",
     "text": [
      "1\n",
      "7\n",
      "2\n"
     ]
    }
   ],
   "source": [
    "# Mengakses Elemen pada Series\n",
    "print(se[0])\n",
    "print(se[1])\n",
    "print(se[2])"
   ]
  },
  {
   "cell_type": "code",
   "execution_count": 4,
   "id": "aa60c499",
   "metadata": {},
   "outputs": [
    {
     "name": "stdout",
     "output_type": "stream",
     "text": [
      "1\n"
     ]
    }
   ],
   "source": [
    "# Memberi Label pada Series\n",
    "se = pd.Series(li, index=['x', 'y', 'z'])\n",
    "print(se['x'])"
   ]
  },
  {
   "cell_type": "code",
   "execution_count": 5,
   "id": "8b6d57b0",
   "metadata": {},
   "outputs": [
    {
     "name": "stdout",
     "output_type": "stream",
     "text": [
      "day1    420\n",
      "day2    380\n",
      "day3    390\n",
      "dtype: int64\n"
     ]
    }
   ],
   "source": [
    "# Membuat Series dari Dictionary\n",
    "calories = {'day1': 420, 'day2': 380, 'day3': 390}\n",
    "se = pd.Series(calories)\n",
    "print(se)"
   ]
  }
 ],
 "metadata": {
  "kernelspec": {
   "display_name": "base",
   "language": "python",
   "name": "python3"
  },
  "language_info": {
   "codemirror_mode": {
    "name": "ipython",
    "version": 3
   },
   "file_extension": ".py",
   "mimetype": "text/x-python",
   "name": "python",
   "nbconvert_exporter": "python",
   "pygments_lexer": "ipython3",
   "version": "3.12.7"
  }
 },
 "nbformat": 4,
 "nbformat_minor": 5
}
