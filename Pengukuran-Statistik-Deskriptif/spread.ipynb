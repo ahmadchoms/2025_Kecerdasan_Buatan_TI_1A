{
 "cells": [
  {
   "cell_type": "code",
   "execution_count": 2,
   "id": "58ec6c96",
   "metadata": {},
   "outputs": [
    {
     "name": "stdout",
     "output_type": "stream",
     "text": [
      "Nilai Minimum adalah 2\n",
      "Nilai Maximum adalah 50\n",
      "Nilai Range adalah 48\n",
      "Nilai Percentile adalah 97.2\n",
      "Nilai Quartile 1 adalah 4.5\n",
      "Nilai Quartile 3 adalah 8.0\n",
      "Nilai Interquartile Range adalah 3.5\n",
      "Nilai Mean adalah 86.42857142857143\n",
      "Nilai Variance adalah 0.8163265306122449\n",
      "Nilai Standart Deviasi adalah 0.9035079029052513\n"
     ]
    }
   ],
   "source": [
    "import numpy as np\n",
    "\n",
    "data = [2, 3, 7, 8, 9, 12, 15, 20, 50, 42]\n",
    "\n",
    "minimum = np.min(data)\n",
    "maximum = np.max(data)\n",
    "x_range = maximum - minimum\n",
    "# Mendapatkan nilai range\n",
    "\n",
    "data = [90, 80, 70, 65, 110, 80, 83, 67, 94]\n",
    "x_percentile = np.percentile(data, 90)\n",
    "# Mendapatkan nilai percentile\n",
    "\n",
    "data = [3, 4, 4, 5, 5, 6, 6, 7, 8, 8, 9, 10]\n",
    "q1 = np.median(data[:int(len(data) / 2)])\n",
    "q3 = np.median(data[int(len(data) / 2):])\n",
    "iqr = q3 - q1\n",
    "# Mendapatkan nilai quartile dan interquartile range\n",
    "\n",
    "data= [86, 87, 88, 86, 87, 85, 86]\n",
    "mean = np.mean(data)\n",
    "var = np.var(data)\n",
    "std = np.std(data)\n",
    "# Mendapatkan nilai variance dan standart deviation\n",
    "\n",
    "print(f\"Nilai Minimum adalah {minimum}\")\n",
    "print(f\"Nilai Maximum adalah {maximum}\")\n",
    "print(f\"Nilai Range adalah {x_range}\")\n",
    "print(f\"Nilai Percentile adalah {x_percentile}\")\n",
    "print(f\"Nilai Quartile 1 adalah {q1}\")\n",
    "print(f\"Nilai Quartile 3 adalah {q3}\")\n",
    "print(f\"Nilai Interquartile Range adalah {iqr}\")\n",
    "print(f\"Nilai Mean adalah {mean}\")\n",
    "print(f\"Nilai Variance adalah {var}\")\n",
    "print(f\"Nilai Standart Deviasi adalah {std}\")"
   ]
  }
 ],
 "metadata": {
  "kernelspec": {
   "display_name": "base",
   "language": "python",
   "name": "python3"
  },
  "language_info": {
   "codemirror_mode": {
    "name": "ipython",
    "version": 3
   },
   "file_extension": ".py",
   "mimetype": "text/x-python",
   "name": "python",
   "nbconvert_exporter": "python",
   "pygments_lexer": "ipython3",
   "version": "3.12.7"
  }
 },
 "nbformat": 4,
 "nbformat_minor": 5
}
