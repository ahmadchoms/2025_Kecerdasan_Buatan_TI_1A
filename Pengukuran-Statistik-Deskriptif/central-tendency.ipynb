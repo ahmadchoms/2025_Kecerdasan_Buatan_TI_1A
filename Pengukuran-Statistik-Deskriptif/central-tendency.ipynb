{
 "cells": [
  {
   "cell_type": "code",
   "execution_count": 2,
   "id": "e4c9d847",
   "metadata": {},
   "outputs": [
    {
     "name": "stdout",
     "output_type": "stream",
     "text": [
      "Nilai Mean adalah 82.11111111111111\n",
      "Nilai Mediab adalah 80.0\n",
      "Nilai Modus / Mode adalah ModeResult(mode=array([80]), count=array([2], dtype=int64))\n"
     ]
    }
   ],
   "source": [
    "import numpy as np\n",
    "from scipy import stats\n",
    "\n",
    "score = [90, 80, 70, 65, 110, 80, 83, 67, 94]\n",
    "x_mean = np.mean(score)\n",
    "# Mendapatkan nilai Mean\n",
    "\n",
    "x_median = np.median(score)\n",
    "# Mendapatkan nilai median\n",
    "\n",
    "x_modus = stats.mode(score, keepdims=True)\n",
    "\n",
    "print(f\"Nilai Mean adalah {x_mean}\")\n",
    "print(f\"Nilai Mediab adalah {x_median}\")\n",
    "print(f\"Nilai Modus / Mode adalah {x_modus}\")"
   ]
  }
 ],
 "metadata": {
  "kernelspec": {
   "display_name": "base",
   "language": "python",
   "name": "python3"
  },
  "language_info": {
   "codemirror_mode": {
    "name": "ipython",
    "version": 3
   },
   "file_extension": ".py",
   "mimetype": "text/x-python",
   "name": "python",
   "nbconvert_exporter": "python",
   "pygments_lexer": "ipython3",
   "version": "3.12.7"
  }
 },
 "nbformat": 4,
 "nbformat_minor": 5
}
