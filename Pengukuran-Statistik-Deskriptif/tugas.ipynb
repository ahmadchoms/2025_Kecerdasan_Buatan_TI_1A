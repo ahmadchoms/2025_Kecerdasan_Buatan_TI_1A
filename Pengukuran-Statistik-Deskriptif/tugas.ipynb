{
 "cells": [
  {
   "cell_type": "code",
   "execution_count": 3,
   "id": "d8645b3f",
   "metadata": {},
   "outputs": [
    {
     "name": "stdout",
     "output_type": "stream",
     "text": [
      "Nilai Modus adalah ModeResult(mode=array([5]), count=array([6], dtype=int64))\n",
      "Nilai Percentile ke-25 dan ke-75 adalah 5.25 dan 8.75\n",
      "Urutan data dari yang terkecil ke terbesar adalah [10 50 50 50 50 51 52 53 53 54 57 59 59 60 61 62 62 63 63 63 65 65 65 65\n",
      " 99]\n",
      "Nilai Quartile ke-1 adalah 51.5, Nilai Quartile ke-3 adalah 63.0, dan Nilai Interquartile Range adalah 11.5\n",
      "Nilai Upper Bound adalah 80.25, Nilai Lower Bound adalah 34.25\n",
      "Nilai Outlier adalah [10, 99]\n",
      "Standar deviasi: 7.24\n"
     ]
    }
   ],
   "source": [
    "import numpy as np\n",
    "from scipy import stats\n",
    "\n",
    "# Soal Nomor 1\n",
    "data = [1, 2, 3, 4, 5, 5, 6, 2, 3, 4, 5, 6, 6, 4, 3, 2, 1, 4, 3, 5, 6, 6, 5, 4, 5]\n",
    "x_modus = stats.mode(data, keepdims=True)\n",
    "print(f\"Nilai Modus adalah {x_modus}\")\n",
    "\n",
    "# Soal Nomor 2\n",
    "data = [9, 10, 11, 6, 8, 7, 7, 5, 4, 5]\n",
    "q1 = np.percentile(data, 25)\n",
    "q3 = np.percentile(data, 75)\n",
    "print(f\"Nilai Percentile ke-25 dan ke-75 adalah {q1} dan {q3}\")\n",
    "\n",
    "# Soal Nomor 3\n",
    "data = [50, 54, 62, 50, 52, 59, 61, 63, 65, 10, 53, 63, 65, 50, 59, 62, 50, 51, 57, 60, 63, 65, 65, 53, 99]\n",
    "a = np.sort(data)\n",
    "q1 = np.median(a[:int(len(a) / 2)])\n",
    "q3 = np.median(a[int(len(a) / 2):])\n",
    "iqr = q3 - q1\n",
    "upper_bound = q3 + 1.5 * iqr\n",
    "lower_bound = q1 - 1.5 * iqr\n",
    "outliers = [x for x in data if x < lower_bound or x > upper_bound]\n",
    "print(f\"Urutan data dari yang terkecil ke terbesar adalah {a}\")\n",
    "print(f\"Nilai Quartile ke-1 adalah {q1}, Nilai Quartile ke-3 adalah {q3}, dan Nilai Interquartile Range adalah {iqr}\")\n",
    "print(f\"Nilai Upper Bound adalah {upper_bound}, Nilai Lower Bound adalah {lower_bound}\")\n",
    "print(f\"Nilai Outlier adalah {outliers}\")\n",
    "\n",
    "# Soal Nomor 4\n",
    "berat_badan = [(41, 45), (46, 50), (50, 55), (56, 60), (61, 65), (66, 70)]\n",
    "frekuensi = [2, 3, 6, 4, 5, 2]\n",
    "\n",
    "nilai_tengah = [(batas_bawah + batas_atas) / 2 for batas_bawah, batas_atas in berat_badan]\n",
    "\n",
    "data = []\n",
    "for i in range(len(nilai_tengah)):\n",
    "    data.extend([nilai_tengah[i]] * frekuensi[i])\n",
    "data_array = np.array(data)\n",
    "std_dev = np.std(data_array, ddof=0)\n",
    "print(f\"Standar deviasi: {std_dev:.2f}\")"
   ]
  }
 ],
 "metadata": {
  "kernelspec": {
   "display_name": "base",
   "language": "python",
   "name": "python3"
  },
  "language_info": {
   "codemirror_mode": {
    "name": "ipython",
    "version": 3
   },
   "file_extension": ".py",
   "mimetype": "text/x-python",
   "name": "python",
   "nbconvert_exporter": "python",
   "pygments_lexer": "ipython3",
   "version": "3.12.7"
  }
 },
 "nbformat": 4,
 "nbformat_minor": 5
}
