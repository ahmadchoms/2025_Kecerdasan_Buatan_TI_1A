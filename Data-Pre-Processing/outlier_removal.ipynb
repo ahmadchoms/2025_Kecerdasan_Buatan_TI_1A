{
 "cells": [
  {
   "cell_type": "code",
   "execution_count": 21,
   "id": "97f585ee",
   "metadata": {},
   "outputs": [
    {
     "name": "stdout",
     "output_type": "stream",
     "text": [
      "    A   B\n",
      "0   1  15\n",
      "1   2  20\n",
      "2   3  25\n",
      "3   4  30\n",
      "4   5  35\n",
      "5   6  40\n",
      "6   7  45\n",
      "7   8  50\n",
      "8   9  55\n",
      "9  10  60\n"
     ]
    }
   ],
   "source": [
    "import pandas as pd\n",
    "import numpy as np\n",
    "\n",
    "df = pd.DataFrame({\n",
    "    'A': [1, 2, 3, 4, 5, 6, 7, 8, 9, 10],\n",
    "    'B': [15, 20, 25, 30, 35, 40, 45, 50, 55, 60],\n",
    "})\n",
    "\n",
    "z_scores = np.abs((df['B'] - df['B'].mean()) / df['B'].std())\n",
    "\n",
    "df_clean = df.loc[round(z_scores) < 2]\n",
    "\n",
    "print(df_clean)"
   ]
  }
 ],
 "metadata": {
  "kernelspec": {
   "display_name": "base",
   "language": "python",
   "name": "python3"
  },
  "language_info": {
   "codemirror_mode": {
    "name": "ipython",
    "version": 3
   },
   "file_extension": ".py",
   "mimetype": "text/x-python",
   "name": "python",
   "nbconvert_exporter": "python",
   "pygments_lexer": "ipython3",
   "version": "3.12.7"
  }
 },
 "nbformat": 4,
 "nbformat_minor": 5
}
