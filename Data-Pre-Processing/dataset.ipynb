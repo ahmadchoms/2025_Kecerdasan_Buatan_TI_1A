{
 "cells": [
  {
   "cell_type": "code",
   "execution_count": 1,
   "id": "a3cb5ea5",
   "metadata": {},
   "outputs": [
    {
     "name": "stdout",
     "output_type": "stream",
     "text": [
      "Data Latih\n",
      "X_train :     X\n",
      "5   6\n",
      "0   1\n",
      "7   8\n",
      "2   3\n",
      "9  10\n",
      "4   5\n",
      "3   4\n",
      "6   7\n",
      "Y_train :     Y\n",
      "5  40\n",
      "0  15\n",
      "7  50\n",
      "2  25\n",
      "9  60\n",
      "4  35\n",
      "3  30\n",
      "6  45\n",
      "\n",
      "Data Uji\n",
      "X_test :    X\n",
      "8  9\n",
      "1  2\n",
      "Y_test :     Y\n",
      "8  55\n",
      "1  20\n"
     ]
    }
   ],
   "source": [
    "import pandas as pd\n",
    "from sklearn.model_selection import train_test_split, cross_val_score\n",
    "from sklearn.tree import DecisionTreeClassifier\n",
    "from sklearn.preprocessing import OneHotEncoder\n",
    "\n",
    "df = pd.DataFrame({\n",
    "    'X': [1, 2, 3, 4, 5, 6, 7, 8, 9, 10],\n",
    "    'Y': [15, 20, 25, 30, 35, 40, 45, 50, 55, 60],\n",
    "})\n",
    "\n",
    "x_train, X_test, y_train, y_test = train_test_split(df[['X']], df[['Y']], test_size=0.2, random_state=42)\n",
    "\n",
    "print('Data Latih')\n",
    "print('X_train :', x_train)\n",
    "print('Y_train :', y_train)\n",
    "\n",
    "print('\\nData Uji')\n",
    "print('X_test :', X_test)\n",
    "print('Y_test :', y_test)"
   ]
  },
  {
   "cell_type": "code",
   "execution_count": 2,
   "id": "9190ff28",
   "metadata": {},
   "outputs": [
    {
     "name": "stdout",
     "output_type": "stream",
     "text": [
      "Ukuran data latih:      Age Sex ChestPainType  RestingBP  Cholesterol  FastingBS RestingECG  \\\n",
      "795   42   M           NAP        120          240          1     Normal   \n",
      "25    36   M           NAP        130          209          0     Normal   \n",
      "84    56   M           ASY        150          213          1     Normal   \n",
      "10    37   F           NAP        130          211          0     Normal   \n",
      "344   51   M           ASY        120            0          1     Normal   \n",
      "..   ...  ..           ...        ...          ...        ...        ...   \n",
      "106   48   F           ASY        120          254          0         ST   \n",
      "270   45   M           ASY        120          225          0     Normal   \n",
      "860   60   M           ASY        130          253          0     Normal   \n",
      "435   60   M           ASY        152            0          0         ST   \n",
      "102   40   F           ASY        150          392          0     Normal   \n",
      "\n",
      "     MaxHR ExerciseAngina  Oldpeak ST_Slope  HeartDisease  \n",
      "795    194              N      0.8     Down             0  \n",
      "25     178              N      0.0       Up             0  \n",
      "84     125              Y      1.0     Flat             1  \n",
      "10     142              N      0.0       Up             0  \n",
      "344    104              N      0.0     Flat             1  \n",
      "..     ...            ...      ...      ...           ...  \n",
      "106    110              N      0.0       Up             0  \n",
      "270    140              N      0.0       Up             0  \n",
      "860    144              Y      1.4       Up             1  \n",
      "435    118              Y      0.0       Up             0  \n",
      "102    130              N      2.0     Flat             1  \n",
      "\n",
      "[734 rows x 12 columns]\n",
      "Ukuran data uji:      Age Sex ChestPainType  RestingBP  Cholesterol  FastingBS RestingECG  \\\n",
      "668   63   F           ATA        140          195          0     Normal   \n",
      "30    53   M           NAP        145          518          0     Normal   \n",
      "377   65   M           ASY        160            0          1         ST   \n",
      "535   56   M           ASY        130            0          0        LVH   \n",
      "807   54   M           ATA        108          309          0     Normal   \n",
      "..   ...  ..           ...        ...          ...        ...        ...   \n",
      "211   50   F           NAP        140          288          0     Normal   \n",
      "745   63   F           ASY        108          269          0     Normal   \n",
      "584   64   M           ASY        141          244          1         ST   \n",
      "878   49   M           ATA        130          266          0     Normal   \n",
      "451   64   M           ASY        144            0          0         ST   \n",
      "\n",
      "     MaxHR ExerciseAngina  Oldpeak ST_Slope  HeartDisease  \n",
      "668    179              N      0.0       Up             0  \n",
      "30     130              N      0.0     Flat             1  \n",
      "377    122              N      1.2     Flat             1  \n",
      "535    122              Y      1.0     Flat             1  \n",
      "807    156              N      0.0       Up             0  \n",
      "..     ...            ...      ...      ...           ...  \n",
      "211    140              Y      0.0     Flat             1  \n",
      "745    169              Y      1.8     Flat             1  \n",
      "584    116              Y      1.5     Flat             1  \n",
      "878    171              N      0.6       Up             0  \n",
      "451    122              Y      1.0     Flat             1  \n",
      "\n",
      "[184 rows x 12 columns]\n"
     ]
    }
   ],
   "source": [
    "from sklearn.model_selection import train_test_split\n",
    "import pandas as pd\n",
    "\n",
    "df = pd.read_csv('../assets/jobsheet-7/heart.csv')\n",
    "data = df.iloc[:, :13]\n",
    "label = df.iloc[:, -1]\n",
    "\n",
    "data_train, data_test, label_train, label_test = train_test_split(data, label, test_size=0.2, random_state=42)\n",
    "\n",
    "print('Ukuran data latih:', data_train)\n",
    "print('Ukuran data uji:', data_test)"
   ]
  },
  {
   "cell_type": "code",
   "execution_count": 3,
   "id": "9824be87",
   "metadata": {},
   "outputs": [
    {
     "name": "stdout",
     "output_type": "stream",
     "text": [
      "Hasil cross validation: [0.76086957 0.75       0.77173913 0.67759563 0.68306011]\n"
     ]
    }
   ],
   "source": [
    "# Memisahkan fitur dan label, karena fitur dibutuhkan model untuk dijadikan input, sedangkan label digunakan untuk dijadikan target\n",
    "X = df.drop(columns='HeartDisease')\n",
    "y = df['HeartDisease']\n",
    "\n",
    "# Melakukan one-hot encoding\n",
    "categorical_cols = ['Sex', 'ChestPainType', 'RestingECG', 'ExerciseAngina', 'ST_Slope']\n",
    "encoder = OneHotEncoder(sparse_output=False, drop='first')\n",
    "X_encoded = pd.DataFrame(encoder.fit_transform(X[categorical_cols]),columns=encoder.get_feature_names_out(categorical_cols))\n",
    "\n",
    "# Menggabungkan data numerik dan hasil encoding\n",
    "X_numeric = X.drop(columns=categorical_cols).reset_index(drop=True)\n",
    "X_final = pd.concat([X_numeric, X_encoded], axis=1)\n",
    "\n",
    "# Inisialisasi model dan cross validation\n",
    "dt = DecisionTreeClassifier()\n",
    "scores = cross_val_score(dt, X_final, y, cv=5)\n",
    "\n",
    "print('Hasil cross validation:', scores)"
   ]
  }
 ],
 "metadata": {
  "kernelspec": {
   "display_name": "base",
   "language": "python",
   "name": "python3"
  },
  "language_info": {
   "codemirror_mode": {
    "name": "ipython",
    "version": 3
   },
   "file_extension": ".py",
   "mimetype": "text/x-python",
   "name": "python",
   "nbconvert_exporter": "python",
   "pygments_lexer": "ipython3",
   "version": "3.12.7"
  }
 },
 "nbformat": 4,
 "nbformat_minor": 5
}
