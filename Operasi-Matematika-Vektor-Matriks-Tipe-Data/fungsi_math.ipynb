{
 "cells": [
  {
   "cell_type": "code",
   "execution_count": 2,
   "metadata": {},
   "outputs": [],
   "source": [
    "from math import *"
   ]
  },
  {
   "cell_type": "code",
   "execution_count": 5,
   "metadata": {},
   "outputs": [
    {
     "name": "stdout",
     "output_type": "stream",
     "text": [
      "sin(45): 0.8509035245341184\n",
      "cos(45): 0.5253219888177297\n",
      "tan(45): 1.6197751905438615\n",
      "log(1): 0.0\n",
      "log10(10): 1.0\n",
      "degrees(pi): 180.0\n",
      "dist([0, 0], [3, 4]): 5.0\n",
      "factorial(5): 120\n",
      "fmod(10, 3): 1.0\n",
      "isnan(float('nan')): True\n",
      "gamma(5): 24.0\n",
      "perm(5, 2): 20\n"
     ]
    }
   ],
   "source": [
    "print(\"sin(45):\", sin(45))\n",
    "print(\"cos(45):\", cos(45))\n",
    "print(\"tan(45):\", tan(45))\n",
    "print(\"log(1):\", log(1))  \n",
    "print(\"log10(10):\", log10(10))  \n",
    "print(\"degrees(pi):\", degrees(pi))  \n",
    "print(\"dist([0, 0], [3, 4]):\", dist([0, 0], [3, 4]))  \n",
    "print(\"factorial(5):\", factorial(5))\n",
    "print(\"fmod(10, 3):\", fmod(10, 3))\n",
    "print(\"isnan(float('nan')):\", isnan(float('nan')))\n",
    "print(\"gamma(5):\", gamma(5))  \n",
    "print(\"perm(5, 2):\", perm(5, 2))"
   ]
  }
 ],
 "metadata": {
  "kernelspec": {
   "display_name": "base",
   "language": "python",
   "name": "python3"
  },
  "language_info": {
   "codemirror_mode": {
    "name": "ipython",
    "version": 3
   },
   "file_extension": ".py",
   "mimetype": "text/x-python",
   "name": "python",
   "nbconvert_exporter": "python",
   "pygments_lexer": "ipython3",
   "version": "3.12.7"
  }
 },
 "nbformat": 4,
 "nbformat_minor": 2
}
