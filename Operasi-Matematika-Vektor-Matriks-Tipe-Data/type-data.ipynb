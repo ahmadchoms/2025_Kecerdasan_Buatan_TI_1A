{
 "cells": [
  {
   "cell_type": "code",
   "execution_count": null,
   "metadata": {},
   "outputs": [
    {
     "name": "stdout",
     "output_type": "stream",
     "text": [
      "<class 'int'>\n"
     ]
    }
   ],
   "source": [
    "# Cek Tipe Data\n",
    "var = 123\n",
    "print(type(var))"
   ]
  },
  {
   "cell_type": "code",
   "execution_count": 4,
   "metadata": {},
   "outputs": [
    {
     "name": "stdout",
     "output_type": "stream",
     "text": [
      "<class 'str'>\n"
     ]
    }
   ],
   "source": [
    "# Tipe Data String\n",
    "a = \"123\"\n",
    "b = \"3.4\"\n",
    "c = \"Data String\"\n",
    "print(type(c))"
   ]
  },
  {
   "cell_type": "code",
   "execution_count": 5,
   "metadata": {},
   "outputs": [
    {
     "name": "stdout",
     "output_type": "stream",
     "text": [
      "<class 'float'>\n",
      "345.0\n",
      "379.5\n",
      "34\n",
      "12\n"
     ]
    }
   ],
   "source": [
    "# Tipe Data Numerik\n",
    "var1 = 345\n",
    "var2 = 34.5\n",
    "f1 = float(var1)\n",
    "print(type(f1))\n",
    "print(f1)\n",
    "sum = var1 + var2\n",
    "print(sum)\n",
    "var3 = 12.3\n",
    "var4 = 12.9\n",
    "i1 = int(var2)\n",
    "i2 = int(var3)\n",
    "print(i1)\n",
    "print(i2)"
   ]
  },
  {
   "cell_type": "code",
   "execution_count": 6,
   "metadata": {},
   "outputs": [
    {
     "name": "stdout",
     "output_type": "stream",
     "text": [
      "False\n",
      "False\n",
      "True\n",
      "True\n"
     ]
    }
   ],
   "source": [
    "# Tipe Data Boolean\n",
    "print(var1 == var2)\n",
    "print(var1 < var2)\n",
    "print(var1 > var2)\n",
    "print(var1 != var2)"
   ]
  },
  {
   "cell_type": "code",
   "execution_count": 7,
   "metadata": {},
   "outputs": [
    {
     "name": "stdout",
     "output_type": "stream",
     "text": [
      "['belajar dasar python', 2023, 3.9, True]\n",
      "True\n",
      "[2023, 3.9]\n",
      "4\n"
     ]
    }
   ],
   "source": [
    "# Tipe Data List\n",
    "list = [\"belajar dasar python\", 2023, 3.9, True]\n",
    "print(list)\n",
    "print(list[3])\n",
    "print(list[1:3])\n",
    "print(len(list))"
   ]
  }
 ],
 "metadata": {
  "kernelspec": {
   "display_name": "base",
   "language": "python",
   "name": "python3"
  },
  "language_info": {
   "codemirror_mode": {
    "name": "ipython",
    "version": 3
   },
   "file_extension": ".py",
   "mimetype": "text/x-python",
   "name": "python",
   "nbconvert_exporter": "python",
   "pygments_lexer": "ipython3",
   "version": "3.12.7"
  }
 },
 "nbformat": 4,
 "nbformat_minor": 2
}
