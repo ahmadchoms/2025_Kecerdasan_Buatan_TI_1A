{
 "cells": [
  {
   "cell_type": "code",
   "execution_count": 66,
   "metadata": {},
   "outputs": [],
   "source": [
    "import numpy as np\n",
    "from math import *"
   ]
  },
  {
   "cell_type": "code",
   "execution_count": 67,
   "metadata": {},
   "outputs": [
    {
     "name": "stdout",
     "output_type": "stream",
     "text": [
      "A.B = [[7 2]\n",
      " [4 2]]\n",
      "B.C = [[ 0  2  3]\n",
      " [-3  1  3]]\n",
      "A.B = [[7 2]\n",
      " [4 2]]\n",
      "A.B = [[ 0  2  3]\n",
      " [-3  1  3]]\n"
     ]
    }
   ],
   "source": [
    "# Soal Nomor 1\n",
    "A = np.array([[3, 1], [2, 0]])\n",
    "B = np.array([[2, 1], [1, -1]])\n",
    "C = np.array([[-1, 1, 2], [2, 0, -1]])\n",
    "\n",
    "D = np.dot(A, B)\n",
    "E = np.dot(B, C)\n",
    "print(f\"A.B = {D}\")\n",
    "print(f\"B.C = {E}\")\n",
    "\n",
    "# Rumus Manual\n",
    "def dot_product(A, B):\n",
    "    dot = [[0 for _ in range(len(B[0]))] for _ in range(len(A))]\n",
    "\n",
    "    for i in range(len(A)):\n",
    "        for j in range(len(B[0])):\n",
    "            for k in range(len(A[0])):\n",
    "                dot[i][j] += A[i][k] * B[k][j]\n",
    "\n",
    "    return dot\n",
    "dotAB = dot_product(A, B)\n",
    "dotBC = dot_product(B, C)\n",
    "\n",
    "manualAB = np.array(dotAB)\n",
    "manualBC = np.array(dotBC)\n",
    "print(f\"A.B = {manualAB}\")\n",
    "print(f\"A.B = {manualBC}\")"
   ]
  },
  {
   "cell_type": "code",
   "execution_count": 68,
   "metadata": {},
   "outputs": [
    {
     "name": "stdout",
     "output_type": "stream",
     "text": [
      "6! = 720\n",
      "8! / 5! = 336.0\n",
      "6! = 720\n",
      "8! / 5! = 336.0\n"
     ]
    }
   ],
   "source": [
    "# Soal Nomor 2\n",
    "print(f\"6! = {factorial(6)}\")\n",
    "print(f\"8! / 5! = {factorial(8) / factorial(5)}\")\n",
    "\n",
    "# Rumus Manual\n",
    "def factorial_operation(n):\n",
    "    result = 1\n",
    "    for i in range(2, n + 1):\n",
    "        result *= i\n",
    "    return result\n",
    "\n",
    "manual6 = factorial_operation(6)\n",
    "manual8_5 = factorial_operation(8) / factorial_operation(5)\n",
    "\n",
    "print(f\"6! = {manual6}\")\n",
    "print(f\"8! / 5! = {manual8_5}\")"
   ]
  },
  {
   "cell_type": "code",
   "execution_count": 69,
   "metadata": {},
   "outputs": [
    {
     "name": "stdout",
     "output_type": "stream",
     "text": [
      "A.B = 58\n",
      "A x B = [ 24  79 -51]\n",
      "A.B = 58\n",
      "A x B = [ 24  79 -51]\n"
     ]
    }
   ],
   "source": [
    "# Soal Nomor 3\n",
    "A = np.array([5, 3, 7])\n",
    "B = np.array([12, -3, 1])\n",
    "\n",
    "C = np.dot(A, B)\n",
    "D = np.cross(A, B)\n",
    "\n",
    "print(f\"A.B = {C}\")\n",
    "print(f\"A x B = {D}\")\n",
    "\n",
    "# Rumus Manual\n",
    "dot = 0\n",
    "\n",
    "for i in range(len(A)):\n",
    "    dot += A[i] * B[i]\n",
    "\n",
    "def cross_product(v1, v2):\n",
    "    result = [\n",
    "        v1[1] * v2[2] - v1[2] * v2[1],\n",
    "        v1[2] * v2[0] - v1[0] * v2[2],\n",
    "        v1[0] * v2[1] - v1[1] * v2[0]\n",
    "    ]\n",
    "    return np.array(result)\n",
    "\n",
    "manualAB = np.array(dot)\n",
    "cross_result = cross_product(A, B)\n",
    "\n",
    "print(f\"A.B = {manualAB}\")\n",
    "print(f\"A x B = {cross_result}\")"
   ]
  }
 ],
 "metadata": {
  "kernelspec": {
   "display_name": "base",
   "language": "python",
   "name": "python3"
  },
  "language_info": {
   "codemirror_mode": {
    "name": "ipython",
    "version": 3
   },
   "file_extension": ".py",
   "mimetype": "text/x-python",
   "name": "python",
   "nbconvert_exporter": "python",
   "pygments_lexer": "ipython3",
   "version": "3.12.7"
  }
 },
 "nbformat": 4,
 "nbformat_minor": 2
}
