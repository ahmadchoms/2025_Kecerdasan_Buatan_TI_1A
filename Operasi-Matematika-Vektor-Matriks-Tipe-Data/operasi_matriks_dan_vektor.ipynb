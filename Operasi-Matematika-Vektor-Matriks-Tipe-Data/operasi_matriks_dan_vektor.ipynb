{
 "cells": [
  {
   "cell_type": "code",
   "execution_count": 9,
   "metadata": {},
   "outputs": [],
   "source": [
    "import numpy as np"
   ]
  },
  {
   "cell_type": "code",
   "execution_count": 10,
   "metadata": {},
   "outputs": [
    {
     "name": "stdout",
     "output_type": "stream",
     "text": [
      "[[110  90  40]\n",
      " [ 60  50  40]]\n"
     ]
    }
   ],
   "source": [
    "# Membuat matriks\n",
    "A = np.array([[80, 30, 25], [50, 20, 10]])\n",
    "B = np.array([[30, 60, 15], [10, 30, 30]])\n",
    "C = A + B\n",
    "print(C)"
   ]
  },
  {
   "cell_type": "code",
   "execution_count": 11,
   "metadata": {},
   "outputs": [
    {
     "name": "stdout",
     "output_type": "stream",
     "text": [
      "2025\n"
     ]
    }
   ],
   "source": [
    "# Melakukan operasi dot product\n",
    "A = np.array([10, 20, 15])\n",
    "B = np.array([16, 67, 35])\n",
    "C = np.dot(A, B)\n",
    "print(C)"
   ]
  },
  {
   "cell_type": "code",
   "execution_count": 12,
   "metadata": {},
   "outputs": [
    {
     "name": "stdout",
     "output_type": "stream",
     "text": [
      "[-305 -110  350]\n"
     ]
    }
   ],
   "source": [
    "# Melakukan operasi cross product\n",
    "A = np.array([10, 20, 15])\n",
    "B = np.array([16, 67, 35])\n",
    "C = np.cross(A, B)\n",
    "print(C)"
   ]
  }
 ],
 "metadata": {
  "kernelspec": {
   "display_name": "base",
   "language": "python",
   "name": "python3"
  },
  "language_info": {
   "codemirror_mode": {
    "name": "ipython",
    "version": 3
   },
   "file_extension": ".py",
   "mimetype": "text/x-python",
   "name": "python",
   "nbconvert_exporter": "python",
   "pygments_lexer": "ipython3",
   "version": "3.12.7"
  }
 },
 "nbformat": 4,
 "nbformat_minor": 2
}
